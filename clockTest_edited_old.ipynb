{
 "cells": [
  {
   "cell_type": "code",
   "execution_count": 1,
   "metadata": {},
   "outputs": [],
   "source": [
    "from PIL import Image, ImageDraw, ImageFont\n",
    "import pytesseract\n",
    "from pathlib import Path\n",
    "import cv2\n",
    "import matplotlib.pyplot as plt\n",
    "import numpy as np\n",
    "import joblib as jb"
   ]
  },
  {
   "cell_type": "code",
   "execution_count": 2,
   "metadata": {},
   "outputs": [],
   "source": [
    "def process_image(image_name):\n",
    "\treturn pytesseract.pytesseract.image_to_string(image_name, lang=\"eng\", config=\"-c tessedit_char_whitelist=0123456789.\")"
   ]
  },
  {
   "cell_type": "markdown",
   "metadata": {},
   "source": [
    "# Detect Clock Text"
   ]
  },
  {
   "cell_type": "code",
   "execution_count": 11,
   "metadata": {},
   "outputs": [],
   "source": [
    "# c, s = [], []\n",
    "# for i in range(20, 392):\n",
    "#     im_1 = Image.open(f\"/home/shubhamch/project/NetColab/Videos/belgium_traces/P-musher/fr_{str(i).zfill(4)}.png\")\n",
    "#     g = process_image(im_1)[:-2]\n",
    "#     c.append(g)\n",
    "#     s.append(len(g))\n",
    "#     # print(generated_text)"
   ]
  },
  {
   "cell_type": "code",
   "execution_count": 6,
   "metadata": {},
   "outputs": [
    {
     "name": "stdout",
     "output_type": "stream",
     "text": [
      "Doing for live and Tours >>>>>>>> 2300\n"
     ]
    }
   ],
   "source": [
    "# For a single video\n",
    "\n",
    "root = \"../Results/Videos/\"\n",
    "trace = \"Live/\"\n",
    "# videos = [\"Video2\", \"Video3\", \"Video4\", \"Video5\"]\n",
    "videos = [\"live\"]\n",
    "# frames = [2900, 2200, 2600, 2200, 2900] # for bus trace\n",
    "# frames = [2900, 1800, 2550, 2300, 2900] # for car trace\n",
    "# frames = [2100, 2600, 2400, 2900] # for sp bus trace\n",
    "# frames = [2150, 2600, 2300, 2900] # for sp car trace\n",
    "frames = [2300] # live without camera\n",
    "# schedulers = [\"Pbflow\", \"PminRTT\", \"Pmusher\", \"Tbflow\", \"TminRTT\", \"Tmusher\", \"Tours\"]\n",
    "schedulers = [\"Tours\"]\n",
    "\n",
    "for kk, video in enumerate(videos):\n",
    "    for scheduler in schedulers:\n",
    "        print(f\"Doing for {video} and {scheduler} >>>>>>>> {frames[kk]}\")\n",
    "        # c, s = [], []\n",
    "        # for i in range(100, frames[kk]):\n",
    "        #     im_1 = Image.open(f\"{root+trace+video}/{scheduler}/fr_{str(i).zfill(4)}.png\")\n",
    "        #     g = process_image(im_1)[:-2]\n",
    "        #     g = g.replace(\"\\n\",\"\")\n",
    "        #     # c.append(g)\n",
    "        #     # print(g, len(g))\n",
    "        #     # if len(g) == 14:\n",
    "        #         # s.append(g)\n",
    "        #     s.append(g)\n",
    "        # print(f\"Done for {video} and {scheduler} >>>>>>>>\")  \n",
    "        # jb.dump(s, f\"{root+trace+video}/detections/detections_pkl_{scheduler}_{video}.pkl\")\n",
    "            \n",
    "        # Separates both the clock texts\n",
    "        s = jb.load(f\"{root+trace+video}/detections/detections_pkl_{scheduler}_{video}.pkl\")\n",
    "        s2 = []\n",
    "        for g in s:\n",
    "            # print(g)\n",
    "            g = g.strip()   # removes extra spaces, if any\n",
    "            if(len(g)==14):\n",
    "                n=7\n",
    "            if(len(g)==7):\n",
    "                n=5\n",
    "            if(len(g)==12):\n",
    "                n=6\n",
    "            out = [(g[i:i+n]) for i in range(0, len(g), n)]\n",
    "            s2.append(out)\n",
    "            \n",
    "        # # Calculates the difference to get the E2E lag\n",
    "        j, latency = 0, []\n",
    "        for i in s2:\n",
    "            try:\n",
    "                if(float(i[0]) and float(i[1])):\n",
    "                    current_latency = float(i[1]) - float(i[0])\n",
    "                    if current_latency<30 and current_latency>0:\n",
    "                        latency.append(current_latency)\n",
    "                        # print(current_latency)\n",
    "            except:\n",
    "                print(\"Error\")\n",
    "        jb.dump(latency, f\"{root+trace+video}/lag_pkl_{scheduler}_{video}.pkl\")"
   ]
  },
  {
   "cell_type": "markdown",
   "metadata": {},
   "source": [
    "## For online class"
   ]
  },
  {
   "cell_type": "code",
   "execution_count": 7,
   "metadata": {},
   "outputs": [
    {
     "name": "stdout",
     "output_type": "stream",
     "text": [
      "Doing for walk/ Video5 and Tours >>>>>>>> 2400\n",
      "Done for walk/ Video5 and Tours >>>>>>>>\n"
     ]
    }
   ],
   "source": [
    "# Generates detection pickle file for all\n",
    "\n",
    "root = \"../Results/Videos/\"\n",
    "# traces = [\"bus/\", \"car/\", \"walk/\"]\n",
    "traces = [\"walk/\"]\n",
    "# videos = [\"Video2\", \"Video3\", \"Video4\", \"Video5\"]\n",
    "videos = [\"Video5\"]\n",
    "# frames = [[2100, 2600, 2200, 2800], [1800, 2550, 2300, 2900], [2100, 2500, 2300, 2900]] \n",
    "frames = [[2400]] \n",
    "# frames = [2900, 2200, 2600, 2200, 2900] # for bus trace\n",
    "# frames = [2900, 1800, 2550, 2300, 2900] # for car trace\n",
    "# frames = [2100, 2600, 2400, 2900] # for sp bus trace\n",
    "# frames = [2150, 2600, 2300, 2900] # for sp car trace\n",
    "schedulers = [\"PSP1\", \"PSP2\", \"Pbflow\", \"PminRTT\", \"Pmusher\", \"Tbflow\", \"TminRTT\", \"Tmusher\", \"Tours\"]\n",
    "\n",
    "for tt, trace in enumerate(traces):\n",
    "    for kk, video in enumerate(videos):\n",
    "        if trace == \"walk\" and video == \"Video2\":\n",
    "            continue\n",
    "        for scheduler in schedulers:\n",
    "            # if scheduler != \"PSP1\" and scheduler != \"PSP2\":\n",
    "            #     continue\n",
    "            print(f\"Doing for {trace} {video} and {scheduler} >>>>>>>> {frames[tt][kk]}\")\n",
    "            s = np.full(frames[tt][kk] - 100, None)\n",
    "            for i in range(100, frames[tt][kk]):\n",
    "                im_1 = Image.open(f\"{root+trace+video}/{scheduler}/fr_{str(i).zfill(4)}.png\")\n",
    "                g = process_image(im_1)[:-2]\n",
    "                g = g.replace(\"\\n\",\"\")\n",
    "                # c.append(g)\n",
    "                # print(g, len(g))\n",
    "                # if len(g) == 14:\n",
    "                    # s.append(g)\n",
    "                s[i - 100] = g\n",
    "            print(f\"Done for {trace} {video} and {scheduler} >>>>>>>>\")    \n",
    "            jb.dump(s, f\"{root+trace+video}/detections/detections_pkl_{scheduler}_{video}.pkl\")"
   ]
  },
  {
   "cell_type": "code",
   "execution_count": 11,
   "metadata": {},
   "outputs": [
    {
     "name": "stdout",
     "output_type": "stream",
     "text": [
      "Doing for walk/ Video5 and Tours >>>>>>>> 2400\n"
     ]
    }
   ],
   "source": [
    "# Calculates latency and saves as pickle file\n",
    "\n",
    "root = \"../Results/Videos/\"\n",
    "traces = [\"bus/\", \"car/\", \"walk/\"]\n",
    "videos = [\"Video2\", \"Video3\", \"Video4\", \"Video5\"]\n",
    "frames = [[2100, 2600, 2200, 2800], [1800, 2550, 2300, 2900], [2100, 2500, 2300, 2900]] \n",
    "schedulers = [\"PSP1\", \"PSP2\", \"Pbflow\", \"PminRTT\", \"Pmusher\", \"Tbflow\", \"TminRTT\", \"Tmusher\", \"Tours\"]\n",
    "\n",
    "for tt, trace in enumerate(traces):\n",
    "    for kk, video in enumerate(videos):\n",
    "        for scheduler in schedulers:\n",
    "            # if video in [\"Video2\", \"Video3\", \"Video4\", \"Video5\"] and scheduler == \"Pbflow\" and trace == \"walk/\":\n",
    "            #     continue \n",
    "            print(f\"Doing for {trace} {video} and {scheduler} >>>>>>>> {frames[tt][kk]}\")           \n",
    "            # Separates both the clock texts\n",
    "            s2 = []\n",
    "            s = jb.load(f\"{root+trace+video}/detections/detections_pkl_{scheduler}_{video}.pkl\")\n",
    "            for gg in range(len(s)):\n",
    "                if s[gg] is not None:\n",
    "                    s[gg] = s[gg].strip()   # removes extra spaces if any\n",
    "                    if(len(s[gg])==14):\n",
    "                        n=7\n",
    "                    if(len(s[gg])==7):\n",
    "                        n=5\n",
    "                        # print(\"Hit 7\")\n",
    "                    if(len(s[gg])==12):\n",
    "                        n=6\n",
    "                        # print(\"Hit 12\")\n",
    "                    out = [(s[gg][i:i+n]) for i in range(0, len(s[gg]), n)]\n",
    "                    s2.append(out)\n",
    "        \n",
    "            # # Calculates the difference to get the E2E lag\n",
    "            j, latency = 0, []\n",
    "            for i in s2:\n",
    "                try:\n",
    "                    if(float(i[0]) and float(i[1])):\n",
    "                        current_latency = float(i[1]) - float(i[0])\n",
    "                        if current_latency<30 and current_latency>0:\n",
    "                            latency.append(current_latency)\n",
    "                            # print(current_latency)\n",
    "                except:\n",
    "                    print(\"Error\")\n",
    "            jb.dump(latency, f\"{root+trace+video}/lag_new_pkl_{scheduler}_{video}.pkl\") "
   ]
  },
  {
   "cell_type": "markdown",
   "metadata": {},
   "source": [
    "## For new applications"
   ]
  },
  {
   "cell_type": "code",
   "execution_count": null,
   "metadata": {},
   "outputs": [
    {
     "name": "stdout",
     "output_type": "stream",
     "text": [
      "Doing for bus/ Badminton and minrtt >>>>>>>> 1080\n",
      "Done for bus/ Badminton and minrtt >>>>>>>>\n",
      "Doing for bus/ Badminton and compact >>>>>>>> 1080\n",
      "Done for bus/ Badminton and compact >>>>>>>>\n",
      "Doing for bus/ Tennis and minrtt >>>>>>>> 1080\n"
     ]
    }
   ],
   "source": [
    "# Generates detection pickle file for all\n",
    "\n",
    "root = \"Videos/\"\n",
    "traces = [\"bus/\"]\n",
    "videos = [\"Badminton\", \"Tennis\", \"USNews\"]\n",
    "schedulers = [\"minrtt\", \"compact\"]\n",
    "\n",
    "frames = 1080\n",
    "# frames = [2900, 2200, 2600, 2200, 2900] # for bus trace\n",
    "# frames = [2900, 1800, 2550, 2300, 2900] # for car trace\n",
    "# frames = [2100, 2600, 2400, 2900] # for sp bus trace\n",
    "# frames = [2150, 2600, 2300, 2900] # for sp car trace\n",
    "\n",
    "for tt, trace in enumerate(traces):\n",
    "    for kk, video in enumerate(videos):\n",
    "        for scheduler in schedulers:\n",
    "            print(f\"Doing for {trace} {video} and {scheduler} >>>>>>>> {frames}\")\n",
    "            s = np.full(frames - 100, None)\n",
    "            for i in range(100, frames):\n",
    "                im_1 = Image.open(f\"{root+trace+video}/{scheduler}/fr_{str(i).zfill(4)}.png\")\n",
    "                g = process_image(im_1)[:-2]\n",
    "                g = g.replace(\"\\n\",\"\")\n",
    "                # c.append(g)\n",
    "                # print(g, len(g))\n",
    "                # if len(g) == 14:\n",
    "                    # s.append(g)\n",
    "                s[i - 100] = g\n",
    "            print(f\"Done for {trace} {video} and {scheduler} >>>>>>>>\")\n",
    "            Path(f\"{root+trace+video}/detections/\").mkdir(exist_ok=True, parents=True)\n",
    "            jb.dump(s, f\"{root+trace+video}/detections/detections_pkl_{scheduler}_{video}.pkl\")"
   ]
  },
  {
   "cell_type": "code",
   "execution_count": null,
   "metadata": {},
   "outputs": [],
   "source": [
    "# Calculates latency and saves as pickle file\n",
    "\n",
    "root = \"../Results/Videos/\"\n",
    "traces = [\"bus/\", \"car/\", \"walk/\"]\n",
    "videos = [\"Video2\", \"Video3\", \"Video4\", \"Video5\"]\n",
    "frames = [[2100, 2600, 2200, 2800], [1800, 2550, 2300, 2900], [2100, 2500, 2300, 2900]] \n",
    "schedulers = [\"PSP1\", \"PSP2\", \"Pbflow\", \"PminRTT\", \"Pmusher\", \"Tbflow\", \"TminRTT\", \"Tmusher\", \"Tours\"]\n",
    "\n",
    "for tt, trace in enumerate(traces):\n",
    "    for kk, video in enumerate(videos):\n",
    "        for scheduler in schedulers:\n",
    "            # if video in [\"Video2\", \"Video3\", \"Video4\", \"Video5\"] and scheduler == \"Pbflow\" and trace == \"walk/\":\n",
    "            #     continue \n",
    "            print(f\"Doing for {trace} {video} and {scheduler} >>>>>>>> {frames[tt][kk]}\")           \n",
    "            # Separates both the clock texts\n",
    "            s2 = []\n",
    "            s = jb.load(f\"{root+trace+video}/detections/detections_pkl_{scheduler}_{video}.pkl\")\n",
    "            for gg in range(len(s)):\n",
    "                if s[gg] is not None:\n",
    "                    s[gg] = s[gg].strip()   # removes extra spaces if any\n",
    "                    if(len(s[gg])==14):\n",
    "                        n=7\n",
    "                    if(len(s[gg])==7):\n",
    "                        n=5\n",
    "                        # print(\"Hit 7\")\n",
    "                    if(len(s[gg])==12):\n",
    "                        n=6\n",
    "                        # print(\"Hit 12\")\n",
    "                    out = [(s[gg][i:i+n]) for i in range(0, len(s[gg]), n)]\n",
    "                    s2.append(out)\n",
    "        \n",
    "            # # Calculates the difference to get the E2E lag\n",
    "            j, latency = 0, []\n",
    "            for i in s2:\n",
    "                try:\n",
    "                    if(float(i[0]) and float(i[1])):\n",
    "                        current_latency = float(i[1]) - float(i[0])\n",
    "                        if current_latency<30 and current_latency>0:\n",
    "                            latency.append(current_latency)\n",
    "                            # print(current_latency)\n",
    "                except:\n",
    "                    print(\"Error\")\n",
    "            jb.dump(latency, f\"{root+trace+video}/lag_new_pkl_{scheduler}_{video}.pkl\") "
   ]
  },
  {
   "cell_type": "code",
   "execution_count": 40,
   "metadata": {},
   "outputs": [
    {
     "data": {
      "text/plain": [
       "[4.760000000000019]"
      ]
     },
     "execution_count": 40,
     "metadata": {},
     "output_type": "execute_result"
    }
   ],
   "source": [
    "latency\n",
    "# s2"
   ]
  },
  {
   "cell_type": "code",
   "execution_count": null,
   "metadata": {},
   "outputs": [],
   "source": []
  }
 ],
 "metadata": {
  "kernelspec": {
   "display_name": "env",
   "language": "python",
   "name": "python3"
  },
  "language_info": {
   "codemirror_mode": {
    "name": "ipython",
    "version": 3
   },
   "file_extension": ".py",
   "mimetype": "text/x-python",
   "name": "python",
   "nbconvert_exporter": "python",
   "pygments_lexer": "ipython3",
   "version": "3.8.10"
  }
 },
 "nbformat": 4,
 "nbformat_minor": 4
}
