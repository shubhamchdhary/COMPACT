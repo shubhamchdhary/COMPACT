{
 "cells": [
  {
   "cell_type": "code",
   "execution_count": 9,
   "metadata": {},
   "outputs": [],
   "source": [
    "from PIL import Image, ImageDraw, ImageFont\n",
    "import pytesseract\n",
    "from pathlib import Path\n",
    "import cv2\n",
    "import matplotlib.pyplot as plt\n",
    "import numpy as np\n",
    "import joblib as jb"
   ]
  },
  {
   "cell_type": "code",
   "execution_count": 2,
   "metadata": {},
   "outputs": [],
   "source": [
    "def process_image(image_name):\n",
    "\treturn pytesseract.pytesseract.image_to_string(image_name, lang=\"eng\", config=\"-c tessedit_char_whitelist=0123456789.\")"
   ]
  },
  {
   "cell_type": "markdown",
   "metadata": {},
   "source": [
    "# Detect Clock Text"
   ]
  },
  {
   "cell_type": "code",
   "execution_count": 11,
   "metadata": {},
   "outputs": [],
   "source": [
    "c, s = [], []\n",
    "for i in range(20, 392):\n",
    "    im_1 = Image.open(f\"/home/shubhamch/project/NetColab/Videos/belgium_traces/P-musher/fr_{str(i).zfill(4)}.png\")\n",
    "    g = process_image(im_1)[:-2]\n",
    "    c.append(g)\n",
    "    s.append(len(g))\n",
    "    # print(generated_text)"
   ]
  },
  {
   "cell_type": "code",
   "execution_count": 4,
   "metadata": {},
   "outputs": [
    {
     "data": {
      "text/plain": [
       "['198.333\\n198.896',\n",
       " '198.333\\n198.998',\n",
       " '198.333\\n199.090',\n",
       " '198.548\\n199.203',\n",
       " '198.722\\n199.295',\n",
       " '198.783\\n199.398',\n",
       " '198.956\\n199.490',\n",
       " '199.037\\n199.603',\n",
       " '199.191\\n199.695',\n",
       " '199.302\\n199.798',\n",
       " '199.302\\n199.890',\n",
       " '199.507\\n200.002',\n",
       " '199.558\\n200.094',\n",
       " '199.724\\n200.197',\n",
       " '199.796\\n200.289',\n",
       " '199.959\\n200.402',\n",
       " '200.040\\n200.494',\n",
       " '200.040\\n200.596',\n",
       " '200.040\\n200.688',\n",
       " '200.244\\n200.801',\n",
       " '200.295\\n200.893',\n",
       " '200.500\\n200.996',\n",
       " '200.500\\n201.087',\n",
       " '200.551\\n201.200',\n",
       " '200.665\\n201.292',\n",
       " '200.777\\n201.394',\n",
       " '200.899\\n201.487',\n",
       " '201.031\\n201.599',\n",
       " '201.154\\n201.691',\n",
       " '201.235\\n201.793',\n",
       " '201.266\\n201.896',\n",
       " '201.469\\n201.998',\n",
       " '201.520\\n202.090',\n",
       " '201.775\\n202.193',\n",
       " '201.775\\n202.295',\n",
       " '201.888\\n202.398',\n",
       " '201.970\\n202.490',\n",
       " '202.020\\n202.602',\n",
       " '202.173\\n202.694',\n",
       " '202.224\\n202.797',\n",
       " '202.377\\n202.889',\n",
       " '202.489\\n203.001',\n",
       " '202.489\\n203.093',\n",
       " '202.489\\n203.195',\n",
       " '202.489\\n203.287',\n",
       " '202.906\\n203.400',\n",
       " '202.978\\n203.492',\n",
       " '202.662\\n203.594',\n",
       " '202.693\\n203.686',\n",
       " '203.161\\n203.799',\n",
       " '203.192\\n203.891',\n",
       " '203.448\\n203.994',\n",
       " '203.498\\n204.086',\n",
       " '203.643\\n204.198',\n",
       " '203.735\\n204.290',\n",
       " '203.898\\n204.403',\n",
       " '203.928\\n204.495',\n",
       " '204.122\\n204.597',\n",
       " '204.183\\n204.690',\n",
       " '204.234\\n204.802',\n",
       " '204.399\\n204.895',\n",
       " '204.481\\n204.997',\n",
       " '204.481\\n205.089',\n",
       " '204.685\\n205.202',\n",
       " '204.726\\n205.294',\n",
       " '204.919\\n205.396',\n",
       " '204.970\\n205.488',\n",
       " '205.093\\n205.600',\n",
       " '205.205\\n205.693',\n",
       " '205.205\\n205.795',\n",
       " '205.205\\n205.887',\n",
       " '205.205\\n205.999',\n",
       " '205.378\\n206.091',\n",
       " '205.459\\n206.194',\n",
       " '205.622\\n206.296',\n",
       " '205.714\\n206.399',\n",
       " '205.878\\n206.491',\n",
       " '205.908\\n206.593',\n",
       " '206.113\\n206.696',\n",
       " '206.194\\n206.798',\n",
       " '206.368\\n206.891',\n",
       " '206.449\\n206.993',\n",
       " '206.612\\n207.096',\n",
       " '206.816\\n207.198',\n",
       " '206.846\\n207.291',\n",
       " '207.051\\n207.403',\n",
       " '207.132\\n207.495',\n",
       " '207.173\\n207.597',\n",
       " '207.173\\n207.689',\n",
       " '207.173\\n207.802',\n",
       " '207.389\\n207.894',\n",
       " '207.553\\n207.997',\n",
       " '207.675\\n208.089',\n",
       " '207.675\\n208.202',\n",
       " '207.675\\n208.294',\n",
       " '207.675\\n208.396',\n",
       " '207.675\\n208.488',\n",
       " '207.839\\n208.600',\n",
       " '207.921\\n208.693',\n",
       " '208.054\\n208.795',\n",
       " '208.176\\n208.887',\n",
       " '208.390\\n209.000',\n",
       " '208.543\\n209.092',\n",
       " '208.594\\n209.195',\n",
       " '208.676\\n209.287',\n",
       " '209.073\\n209.399',\n",
       " '209.165\\n209.491',\n",
       " '208.798\\n209.594',\n",
       " '208.880\\n209.696',\n",
       " '209.277\\n209.799',\n",
       " '209.359\\n209.891',\n",
       " '209.512\\n209.994',\n",
       " '209.594\\n210.096',\n",
       " '209.634\\n210.198',\n",
       " '209.820\\n210.291',\n",
       " '209.881\\n210.393',\n",
       " '210.014\\n210.495',\n",
       " '210.055\\n210.598',\n",
       " '210.136\\n210.690',\n",
       " '210.340\\n210.802',\n",
       " '210.381\\n210.894',\n",
       " '210.625\\n210.997',\n",
       " '210.625\\n211.089',\n",
       " '210.625\\n211.201',\n",
       " '210.625\\n211.293',\n",
       " '210.839\\n211.396',\n",
       " '210.839\\n211.488',\n",
       " '211.053\\n211.600',\n",
       " '211.145\\n211.693',\n",
       " '211.287\\n211.795',\n",
       " '211.338\\n211.887',\n",
       " '211.379\\n211.999',\n",
       " '211.379\\n212.091',\n",
       " '211.847\\n212.194',\n",
       " '211.491\\n212.297',\n",
       " '211.572\\n212.399',\n",
       " '212.010\\n212.491',\n",
       " '212.092\\n212.603',\n",
       " '212.132\\n212.695',\n",
       " '212.265\\n212.797',\n",
       " '212.377\\n212.889',\n",
       " '212.560\\n213.002',\n",
       " '212.652\\n213.094',\n",
       " '212.652\\n213.196',\n",
       " '212.817\\n213.288',\n",
       " '212.898\\n213.401',\n",
       " '212.898\\n213.493',\n",
       " '213.052\\n213.596',\n",
       " '213.133\\n213.688',\n",
       " '213.306\\n213.801',\n",
       " '213.388\\n213.893',\n",
       " '213.521\\n213.995',\n",
       " '213.572\\n214.087',\n",
       " '213.633\\n214.200',\n",
       " '213.775\\n214.292',\n",
       " '213.857\\n214.394',\n",
       " '214.071\\n214.496',\n",
       " '214.101\\n214.599',\n",
       " '214.152\\n214.691',\n",
       " '214.323\\n214.793',\n",
       " '214.404\\n214.895',\n",
       " '214.520\\n214.998',\n",
       " '214.612\\n215.090',\n",
       " '214.663\\n215.202',\n",
       " '214.775\\n215.295',\n",
       " '214.897\\n215.397',\n",
       " '215.029\\n215.489',\n",
       " '215.090\\n215.602',\n",
       " '215.142\\n215.694',\n",
       " '215.315\\n215.796',\n",
       " '215.397\\n215.888',\n",
       " '215.519\\n216.001',\n",
       " '215.651\\n216.093',\n",
       " '215.651\\n216.195',\n",
       " '215.817\\n216.287',\n",
       " '215.899\\n216.400',\n",
       " '216.072\\n216.492',\n",
       " '216.102\\n216.594',\n",
       " '216.153\\n216.686',\n",
       " '216.317\\n216.799',\n",
       " '216.398\\n216.891',\n",
       " '216.521\\n216.993',\n",
       " '216.602\\n217.096',\n",
       " '216.653\\n217.198',\n",
       " '216.775\\n217.290',\n",
       " '216.888\\n217.403',\n",
       " '217.020\\n217.495',\n",
       " '217.092\\n217.597',\n",
       " '217.143\\n217.689',\n",
       " '217.308\\n217.802',\n",
       " '217.390\\n217.894',\n",
       " '217.563\\n217.997',\n",
       " '217.644\\n218.089',\n",
       " '217.644\\n218.201',\n",
       " '217.811\\n218.293',\n",
       " '217.841\\n218.396',\n",
       " '217.882\\n218.488',\n",
       " '218.126\\n218.601',\n",
       " '218.126\\n218.693',\n",
       " '218.300\\n218.795',\n",
       " '218.382\\n218.887',\n",
       " '218.536\\n218.997',\n",
       " '218.617\\n219.089',\n",
       " '218.617\\n219.201',\n",
       " '218.780\\n219.293',\n",
       " '218.861\\n219.395',\n",
       " '218.984\\n219.488',\n",
       " '219.106\\n219.600',\n",
       " '219.106\\n219.692',\n",
       " '219.321\\n219.794',\n",
       " '219.352\\n219.886',\n",
       " '219.518\\n219.999',\n",
       " '219.558\\n220.091',\n",
       " '219.742\\n220.194',\n",
       " '219.803\\n220.296',\n",
       " '219.854\\n220.398',\n",
       " '219.991\\n220.490',\n",
       " '220.103\\n220.603',\n",
       " '220.103\\n220.695',\n",
       " '220.306\\n220.797',\n",
       " '220.337\\n220.889',\n",
       " '220.510\\n221.001',\n",
       " '220.592\\n221.093',\n",
       " '220.592\\n221.195',\n",
       " '220.798\\n221.288',\n",
       " '220.829\\n221.400',\n",
       " '221.013\\n221.492',\n",
       " '221.074\\n221.594',\n",
       " '221.217\\n221.697',\n",
       " '221.299\\n221.799',\n",
       " '221.329\\n221.891',\n",
       " '221.329\\n221.891',\n",
       " '221.329\\n222.095',\n",
       " '221.533\\n222.197',\n",
       " '221.696\\n222.289',\n",
       " '221.818\\n222.402',\n",
       " '221.950\\n222.494',\n",
       " '222.021\\n222.596',\n",
       " '222.205\\n222.688',\n",
       " '222.266\\n222.801',\n",
       " '222.317\\n222.893',\n",
       " '222.317\\n222.995',\n",
       " '222.317\\n223.087',\n",
       " '222.317\\n223.199',\n",
       " '222.776\\n223.292',\n",
       " '222.440\\n223.394',\n",
       " '222.521\\n223.497',\n",
       " '222.959\\n223.599',\n",
       " '223.092\\n223.692',\n",
       " '223.205\\n223.794',\n",
       " '223.337\\n223.897',\n",
       " '223.490\\n223.999',\n",
       " '223.571\\n224.091',\n",
       " '223.714\\n224.194',\n",
       " '223.796\\n224.296',\n",
       " '223.826\\n224.398',\n",
       " '224.000\\n224.490',\n",
       " '224.082\\n224.603',\n",
       " '224.248\\n224.695',\n",
       " '224.330\\n224.797',\n",
       " '224.513\\n224.889',\n",
       " '224.585\\n225.002',\n",
       " '224.585\\n225.094',\n",
       " '224.585\\n225.196',\n",
       " '224.768\\n225.288',\n",
       " '224.799\\n225.401',\n",
       " '224.985\\n225.493',\n",
       " '225.107\\n225.595',\n",
       " '225.107\\n225.687',\n",
       " '225.271\\n225.800',\n",
       " '225.322\\n225.892',\n",
       " '225.485\\n225.994',\n",
       " '225.567\\n226.087',\n",
       " '225.607\\n226.199',\n",
       " '225.740\\n226.291',\n",
       " '225.822\\n226.394',\n",
       " '225.985\\n226.496',\n",
       " '226.076\\n226.599',\n",
       " '226.107\\n226.691',\n",
       " '226.259\\n226.803',\n",
       " '226.371\\n226.895',\n",
       " '226.545\\n226.998',\n",
       " '226.626\\n227.090',\n",
       " '226.626\\n227.202',\n",
       " '226.759\\n227.294',\n",
       " '226.882\\n227.397',\n",
       " '227.066\\n227.489',\n",
       " '227.147\\n227.601',\n",
       " '227.147\\n227.693',\n",
       " '227.260\\n227.796',\n",
       " '227.382\\n227.888',\n",
       " '227.535\\n228.000',\n",
       " '227.596\\n228.092',\n",
       " '227.647\\n228.194',\n",
       " '227.821\\n228.297',\n",
       " '227.851\\n228.400',\n",
       " '228.065\\n228.492',\n",
       " '228.106\\n228.594',\n",
       " '228.157\\n228.696',\n",
       " '228.320\\n228.799',\n",
       " '228.402\\n228.891',\n",
       " '228.402\\n229.003',\n",
       " '228.566\\n229.095',\n",
       " '228.658\\n229.197',\n",
       " '228.822\\n229.289',\n",
       " '228.903\\n229.402',\n",
       " '228.903\\n229.494',\n",
       " '229.107\\n229.596',\n",
       " '229.158\\n229.688',\n",
       " '229.270\\n229.801',\n",
       " '229.393\\n229.893',\n",
       " '229.393\\n229.995',\n",
       " '229.526\\n230.088',\n",
       " '229.648\\n230.200',\n",
       " '229.648\\n230.292',\n",
       " '229.648\\n230.394',\n",
       " '229.862\\n230.497',\n",
       " '229.892\\n230.602',\n",
       " '230.116\\n230.694',\n",
       " '230.167\\n230.797',\n",
       " '230.167\\n230.889',\n",
       " '230.535\\n231.001',\n",
       " '230.647\\n231.094',\n",
       " '230.310\\n231.196',\n",
       " '230.401\\n231.288',\n",
       " '230.769\\n231.396',\n",
       " '230.851\\n231.488',\n",
       " '230.902\\n231.601',\n",
       " '231.065\\n231.693',\n",
       " '231.157\\n231.795',\n",
       " '231.340\\n231.888',\n",
       " '231.535\\n232.000',\n",
       " '231.575\\n232.093',\n",
       " '231.657\\n232.195',\n",
       " '231.657\\n232.297',\n",
       " '231.903\\n232.400',\n",
       " '232.076\\n232.492',\n",
       " '232.157\\n232.604',\n",
       " '232.290\\n232.697',\n",
       " '232.412\\n232.799',\n",
       " '232.412\\n232.891',\n",
       " '232.412\\n233.003',\n",
       " '232.412\\n233.095',\n",
       " '232.412\\n233.197',\n",
       " '232.830\\n233.289',\n",
       " '232.861\\n233.402',\n",
       " '232.545\\n233.494',\n",
       " '232.657\\n233.597',\n",
       " '233.034\\n233.689',\n",
       " '233.147\\n233.801',\n",
       " '233.147\\n233.893',\n",
       " '233.147\\n233.995',\n",
       " '233.595\\n234.097',\n",
       " '233.279\\n234.200',\n",
       " '233.361\\n234.292',\n",
       " '233.769\\n234.404',\n",
       " '233.851\\n234.496',\n",
       " '234.034\\n234.599',\n",
       " '234.166\\n234.691',\n",
       " '234.166\\n234.803',\n",
       " '234.340\\n234.895',\n",
       " '234.421\\n234.997',\n",
       " '234.585\\n235.089',\n",
       " '234.656\\n235.202',\n",
       " '234.656\\n235.294',\n",
       " '234.844\\n235.396',\n",
       " '234.875\\n235.488',\n",
       " '235.059\\n235.601',\n",
       " '235.171\\n235.693',\n",
       " '235.313\\n235.795',\n",
       " '235.395\\n235.898',\n",
       " '235.426\\n236.000',\n",
       " '235.579\\n236.092',\n",
       " '235.691\\n236.205',\n",
       " '235.691\\n236.297',\n",
       " '235.916\\n236.399',\n",
       " '235.947\\n236.491',\n",
       " '236.131\\n236.604',\n",
       " '236.212\\n236.695',\n",
       " '236.212\\n236.798']"
      ]
     },
     "execution_count": 4,
     "metadata": {},
     "output_type": "execute_result"
    }
   ],
   "source": [
    "c"
   ]
  },
  {
   "cell_type": "code",
   "execution_count": 32,
   "metadata": {},
   "outputs": [],
   "source": [
    "# cc = [i[:-3] for i in c]\n",
    "# cc\n",
    "# c"
   ]
  },
  {
   "cell_type": "code",
   "execution_count": 34,
   "metadata": {},
   "outputs": [],
   "source": [
    "# # for streamed clock only\n",
    "# j, latency = 0, []\n",
    "# for i in c:\n",
    "#     latency.append(float(i) - j)\n",
    "#     j = float(i)\n",
    "\n",
    "# cc"
   ]
  },
  {
   "cell_type": "code",
   "execution_count": 5,
   "metadata": {},
   "outputs": [],
   "source": [
    "# len(c)\n",
    "latency = []\n",
    "# for i in cc:\n",
    "for i in c:\n",
    "    if \"\\n\" in i:\n",
    "        o = i.split(\"\\n\")\n",
    "        if len(o) == 2:\n",
    "            s, r = o[0], o[1]\n",
    "            # print(s.count(\".\"), r.count(\".\"))\n",
    "            if (s.count(\".\") < 2 and \" \" not in s) and (r.count(\".\") < 2 and \" \" not in r):\n",
    "                latency.append(float(r) - float(s))"
   ]
  },
  {
   "cell_type": "code",
   "execution_count": 794,
   "metadata": {},
   "outputs": [],
   "source": [
    "# l = np.array(latency)\n",
    "# jb.dump(latency, \"latency_16_0.5s.pkl\")\n",
    "# jb.dump(l, \"latency_16_0.25s.pkl\")\n",
    "# l\n",
    "# c[0][3:]"
   ]
  },
  {
   "cell_type": "code",
   "execution_count": 6,
   "metadata": {},
   "outputs": [
    {
     "data": {
      "text/plain": [
       "array([0.563, 0.665, 0.757, 0.655, 0.573, 0.615, 0.534, 0.566, 0.504,\n",
       "       0.496, 0.588, 0.495, 0.536, 0.473, 0.493, 0.443, 0.454, 0.556,\n",
       "       0.648, 0.557, 0.598, 0.496, 0.587, 0.649, 0.627, 0.617, 0.588,\n",
       "       0.568, 0.537, 0.558, 0.63 , 0.529, 0.57 , 0.418, 0.52 , 0.51 ,\n",
       "       0.52 , 0.582, 0.521, 0.573, 0.512, 0.512, 0.604, 0.706, 0.798,\n",
       "       0.494, 0.514, 0.932, 0.993, 0.638, 0.699, 0.546, 0.588, 0.555,\n",
       "       0.555, 0.505, 0.567, 0.475, 0.507, 0.568, 0.496, 0.516, 0.608,\n",
       "       0.517, 0.568, 0.477, 0.518, 0.507, 0.488, 0.59 , 0.682, 0.794,\n",
       "       0.713, 0.735, 0.674, 0.685, 0.613, 0.685, 0.583, 0.604, 0.523,\n",
       "       0.544, 0.484, 0.382, 0.445, 0.352, 0.363, 0.424, 0.516, 0.629,\n",
       "       0.505, 0.444, 0.414, 0.527, 0.619, 0.721, 0.813, 0.761, 0.772,\n",
       "       0.741, 0.711, 0.61 , 0.549, 0.601, 0.611, 0.326, 0.326, 0.796,\n",
       "       0.816, 0.522, 0.532, 0.482, 0.502, 0.564, 0.471, 0.512, 0.481,\n",
       "       0.543, 0.554, 0.462, 0.513, 0.372, 0.464, 0.576, 0.668, 0.557,\n",
       "       0.649, 0.547, 0.548, 0.508, 0.549, 0.62 , 0.712, 0.347, 0.806,\n",
       "       0.827, 0.481, 0.511, 0.563, 0.532, 0.512, 0.442, 0.442, 0.544,\n",
       "       0.471, 0.503, 0.595, 0.544, 0.555, 0.495, 0.505, 0.474, 0.515,\n",
       "       0.567, 0.517, 0.537, 0.425, 0.498, 0.539, 0.47 , 0.491, 0.478,\n",
       "       0.478, 0.539, 0.52 , 0.5  , 0.46 , 0.512, 0.552, 0.481, 0.491,\n",
       "       0.482, 0.442, 0.544, 0.47 , 0.501, 0.42 , 0.492, 0.533, 0.482,\n",
       "       0.493, 0.472, 0.494, 0.545, 0.515, 0.515, 0.475, 0.505, 0.546,\n",
       "       0.494, 0.504, 0.434, 0.445, 0.557, 0.482, 0.555, 0.606, 0.475,\n",
       "       0.567, 0.495, 0.505, 0.461, 0.472, 0.584, 0.513, 0.534, 0.504,\n",
       "       0.494, 0.586, 0.473, 0.534, 0.481, 0.533, 0.452, 0.493, 0.544,\n",
       "       0.499, 0.5  , 0.592, 0.491, 0.552, 0.491, 0.501, 0.603, 0.49 ,\n",
       "       0.571, 0.479, 0.52 , 0.48 , 0.5  , 0.562, 0.562, 0.766, 0.664,\n",
       "       0.593, 0.584, 0.544, 0.575, 0.483, 0.535, 0.576, 0.678, 0.77 ,\n",
       "       0.882, 0.516, 0.954, 0.976, 0.64 , 0.6  , 0.589, 0.56 , 0.509,\n",
       "       0.52 , 0.48 , 0.5  , 0.572, 0.49 , 0.521, 0.447, 0.467, 0.376,\n",
       "       0.417, 0.509, 0.611, 0.52 , 0.602, 0.508, 0.488, 0.58 , 0.529,\n",
       "       0.57 , 0.509, 0.52 , 0.592, 0.551, 0.572, 0.511, 0.523, 0.584,\n",
       "       0.544, 0.524, 0.453, 0.464, 0.576, 0.535, 0.515, 0.423, 0.454,\n",
       "       0.546, 0.536, 0.506, 0.465, 0.496, 0.547, 0.476, 0.549, 0.427,\n",
       "       0.488, 0.539, 0.479, 0.489, 0.601, 0.529, 0.539, 0.467, 0.499,\n",
       "       0.591, 0.489, 0.53 , 0.531, 0.5  , 0.602, 0.562, 0.552, 0.644,\n",
       "       0.746, 0.635, 0.71 , 0.578, 0.63 , 0.722, 0.466, 0.447, 0.886,\n",
       "       0.887, 0.627, 0.637, 0.699, 0.628, 0.638, 0.548, 0.465, 0.518,\n",
       "       0.538, 0.64 , 0.497, 0.416, 0.447, 0.407, 0.387, 0.479, 0.591,\n",
       "       0.683, 0.785, 0.459, 0.541, 0.949, 0.94 , 0.655, 0.654, 0.746,\n",
       "       0.848, 0.502, 0.921, 0.931, 0.635, 0.645, 0.565, 0.525, 0.637,\n",
       "       0.555, 0.576, 0.504, 0.546, 0.638, 0.552, 0.613, 0.542, 0.522,\n",
       "       0.482, 0.503, 0.574, 0.513, 0.514, 0.606, 0.483, 0.544, 0.473,\n",
       "       0.483, 0.586])"
      ]
     },
     "execution_count": 6,
     "metadata": {},
     "output_type": "execute_result"
    }
   ],
   "source": [
    "# np.where(l>2)\n",
    "# a, b = c[74].split(\"\\n\")\n",
    "# float(b)-float(a)\n",
    "# l = latency.copy()\n",
    "# l.pop(74)\n",
    "# len(l)\n",
    "# l[74]\n",
    "# latency[74]\n",
    "latency = np.array(latency)\n",
    "latency\n",
    "# latency[np.where(latency > 0)].shape"
   ]
  },
  {
   "cell_type": "code",
   "execution_count": 7,
   "metadata": {},
   "outputs": [
    {
     "data": {
      "text/plain": [
       "0.5572815789473677"
      ]
     },
     "execution_count": 7,
     "metadata": {},
     "output_type": "execute_result"
    }
   ],
   "source": [
    "np.mean(latency)"
   ]
  },
  {
   "cell_type": "code",
   "execution_count": 10,
   "metadata": {},
   "outputs": [
    {
     "data": {
      "text/plain": [
       "['P-minRTT.pkl']"
      ]
     },
     "execution_count": 10,
     "metadata": {},
     "output_type": "execute_result"
    }
   ],
   "source": [
    "jb.dump(latency, \"P-minRTT.pkl\")"
   ]
  },
  {
   "cell_type": "code",
   "execution_count": 9,
   "metadata": {},
   "outputs": [
    {
     "data": {
      "text/plain": [
       "151"
      ]
     },
     "execution_count": 9,
     "metadata": {},
     "output_type": "execute_result"
    }
   ],
   "source": [
    "# np.mean(latency[np.where(latency > 0)])\n",
    "# l = list(latency)\n",
    "# np.mean(l[:194] + l[204:])\n",
    "# np.mean(latency)\n",
    "# su = 0\n",
    "# for ii in range(len(latency)):\n",
    "#     if ii != 74:\n",
    "#         su += latency[ii]\n",
    "# # su = su/(len(latency)-1)\n",
    "# su = su/(len(latency))\n",
    "# # type(latency[0])\n",
    "# su\n",
    "len(latency)"
   ]
  },
  {
   "cell_type": "code",
   "execution_count": 12,
   "metadata": {},
   "outputs": [
    {
     "data": {
      "image/png": "[encoded data removed]",
      "text/plain": [
       "<Figure size 432x288 with 1 Axes>"
      ]
     },
     "metadata": {
      "needs_background": "light"
     },
     "output_type": "display_data"
    }
   ],
   "source": [
    "l = list(latency)\n",
    "# plt.plot(l[:155] + l[175:210] + l[240:])\n",
    "plt.plot(latency)\n",
    "# plt.ylim(0, 0.5)\n",
    "plt.xlabel(\"Frame Index\", fontsize=26)\n",
    "plt.ylabel(\"Lag (s)\", fontsize=26)\n",
    "# plt.xticks(range(0, 1601, 400), fontsize=18)\n",
    "plt.xticks(fontsize=18)\n",
    "plt.yticks(fontsize=18)\n",
    "plt.grid()\n",
    "plt.tight_layout()\n",
    "# plt.show()\n",
    "plt.savefig(\"../Plots/SCTP_RTTs/4G/multipath_4G+4G_30fps4F.png\", bbox_inches=\"tight\")\n",
    "# plt.savefig(\"../Plots/SCTP_RTTs/WiFi/singlepath_4G_30fps4F_test2.png\", bbox_inches=\"tight\")"
   ]
  },
  {
   "cell_type": "code",
   "execution_count": 8,
   "metadata": {},
   "outputs": [
    {
     "data": {
      "text/plain": [
       "[<matplotlib.lines.Line2D at 0x7f86e9dd6fd0>]"
      ]
     },
     "execution_count": 8,
     "metadata": {},
     "output_type": "execute_result"
    },
    {
     "data": {
      "image/png": "[encoded data removed]",
      "text/plain": [
       "<Figure size 432x288 with 1 Axes>"
      ]
     },
     "metadata": {
      "needs_background": "light"
     },
     "output_type": "display_data"
    }
   ],
   "source": [
    "l = list(latency)\n",
    "# plt.plot(l[:155] + l[175:210] + l[240:])\n",
    "plt.plot(latency)"
   ]
  },
  {
   "cell_type": "code",
   "execution_count": 296,
   "metadata": {},
   "outputs": [],
   "source": [
    "# text.text((10, 10), \"123456789078934\", font=f1, fill=(255))\n",
    "# text.text((10, 140), \"123456789078934\", font=f2, fill=(255))\n",
    "\n",
    "# text.text((10, 10), \"788787878787878.6767\", font=f1, fill=(255))\n",
    "# text.text((10, 140), \"77777878787878.878787.7878.7878\", font=f2, fill=(255))\n",
    "# text.text((10, 140), \"1277777777777777777777\", font=f2, fill=(255))\n",
    "# text.text((10, 140), \"888888888888888888888\", font=f2, fill=(255))\n",
    "# text.text((10, 140), \"0000000000000000000000000\", font=f2, fill=(255))\n",
    "# img_new"
   ]
  },
  {
   "cell_type": "code",
   "execution_count": 29,
   "metadata": {},
   "outputs": [
    {
     "data": {
      "text/plain": [
       "0.48500029323030286"
      ]
     },
     "execution_count": 29,
     "metadata": {},
     "output_type": "execute_result"
    }
   ],
   "source": [
    "# generated_text = process_image(img_new)\n",
    "# generated_text\n",
    "np.mean(l[:1000] + l[1100:1600] + l[1700:])"
   ]
  },
  {
   "cell_type": "code",
   "execution_count": null,
   "metadata": {},
   "outputs": [],
   "source": []
  },
  {
   "cell_type": "code",
   "execution_count": null,
   "metadata": {},
   "outputs": [],
   "source": []
  }
 ],
 "metadata": {
  "kernelspec": {
   "display_name": "Python 3 (ipykernel)",
   "language": "python",
   "name": "python3"
  },
  "language_info": {
   "codemirror_mode": {
    "name": "ipython",
    "version": 3
   },
   "file_extension": ".py",
   "mimetype": "text/x-python",
   "name": "python",
   "nbconvert_exporter": "python",
   "pygments_lexer": "ipython3",
   "version": "3.8.10"
  }
 },
 "nbformat": 4,
 "nbformat_minor": 2
}
